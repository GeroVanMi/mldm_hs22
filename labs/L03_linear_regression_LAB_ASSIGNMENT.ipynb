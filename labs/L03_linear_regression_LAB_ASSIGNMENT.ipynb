{
 "cells": [
  {
   "cell_type": "code",
   "execution_count": 1,
   "metadata": {
    "id": "FZEco2HK6D57"
   },
   "outputs": [],
   "source": [
    "import numpy as np\n",
    "import pandas as pd\n",
    "from matplotlib import pyplot as plt"
   ]
  },
  {
   "cell_type": "code",
   "execution_count": 2,
   "metadata": {
    "id": "a3nCUqopXHwv"
   },
   "outputs": [],
   "source": [
    "RANDOM_SEED = 0xdeadbeef"
   ]
  },
  {
   "cell_type": "markdown",
   "metadata": {
    "id": "jjTkUw7BWulH"
   },
   "source": [
    "# Lab 03: Linear Regression"
   ]
  },
  {
   "cell_type": "markdown",
   "metadata": {
    "id": "gNnZUk36Xz7_"
   },
   "source": [
    "For the first few Tasks, we will work with synthetic univariate data.\n",
    "We generate $100$ features $x_i \\in [-1, 1]$ as `x` and two different\n",
    "regression targets `y1` and `y2`."
   ]
  },
  {
   "cell_type": "code",
   "execution_count": 3,
   "metadata": {
    "id": "Ojta777H2ulb"
   },
   "outputs": [],
   "source": [
    "data_rng = np.random.default_rng(RANDOM_SEED)\n",
    "n = 100\n",
    "x = 2 * data_rng.random(n) - 1  # create n points between -1 and 1\n",
    "\n",
    "# setup synthetic linear data\n",
    "true_offset = 0.5\n",
    "true_slope = 1.25\n",
    "noise = data_rng.normal(loc=0., scale=0.25, size=(n,))\n",
    "\n",
    "y1 = true_offset + true_slope * x + noise\n",
    "\n",
    "# setup synthetic non-linear data\n",
    "y2 = true_offset + np.sin(np.pi * x) + noise"
   ]
  },
  {
   "cell_type": "markdown",
   "metadata": {
    "id": "ntdpTWzqZqAU"
   },
   "source": [
    "# Task 1 (2 Points): Pearson Correlation"
   ]
  },
  {
   "cell_type": "markdown",
   "metadata": {
    "id": "JbNJ7WhzbAtm"
   },
   "source": [
    "### Task 1a\n",
    "\n",
    "Plot `x` against the target variable `y1`.\n",
    "\n",
    "* use `plt.scatter`\n",
    "\n",
    "\n",
    "Do you think there is a linear relationship between `x` and the target?"
   ]
  },
  {
   "cell_type": "code",
   "execution_count": 4,
   "metadata": {
    "id": "MxYMdhfxyYAd"
   },
   "outputs": [
    {
     "data": {
      "image/png": "[encoded data removed]",
      "text/plain": [
       "<Figure size 432x288 with 1 Axes>"
      ]
     },
     "metadata": {
      "needs_background": "light"
     },
     "output_type": "display_data"
    }
   ],
   "source": [
    "plt.scatter(x, y1)\n",
    "plt.show()"
   ]
  },
  {
   "cell_type": "markdown",
   "metadata": {
    "id": "6Ak0nQ0PDGpm"
   },
   "source": [
    "Plot `x` against the target variable `y2`.\n",
    "\n",
    "Do you think there is a linear relationship between `x` and the target?"
   ]
  },
  {
   "cell_type": "code",
   "execution_count": 5,
   "metadata": {
    "id": "HpzwoBdQDd-d"
   },
   "outputs": [
    {
     "data": {
      "image/png": "[encoded data removed]",
      "text/plain": [
       "<Figure size 432x288 with 1 Axes>"
      ]
     },
     "metadata": {
      "needs_background": "light"
     },
     "output_type": "display_data"
    }
   ],
   "source": [
    "plt.scatter(x, y2)\n",
    "plt.show()"
   ]
  },
  {
   "cell_type": "markdown",
   "metadata": {
    "id": "HycYQm3tbvyf"
   },
   "source": [
    "### Task 1b\n",
    "\n",
    "In class you have seen the formula for the Pearson Correlation:\n",
    "$\\rho(a, b) = \\frac{\\sum_{i = 1}^{m} (a_i - \\bar{a})(b_i - \\bar{b})}{\\sqrt{\\sum_{i=1}^{m} (a_i - \\bar{a})^2(b_i - \\bar{b})^2}} $, where $\\bar{a} = \\frac{1}{m}\\sum_{i=1}^{m} a_i$ and $\\bar{b} = \\frac{1}{m}\\sum_{i=1}^{m} b_i$.\n",
    "\n",
    "* Compute the Pearson Correlation $\\rho$ between `x` and the target `y1`.\n",
    "* Compute the Pearson Correlation between `x` and `y2`.\n",
    "* Check that you get the same result as the reference implementation"
   ]
  },
  {
   "cell_type": "code",
   "execution_count": 6,
   "metadata": {
    "id": "EUoJXIrCy0p6"
   },
   "outputs": [
    {
     "name": "stdout",
     "output_type": "stream",
     "text": [
      "0.9477423215956917\n",
      "0.7232525746249453\n"
     ]
    }
   ],
   "source": [
    "import math\n",
    "\n",
    "\n",
    "def pearson_correlation(a, b):\n",
    "    mean_a = np.mean(a)\n",
    "    mean_b = np.mean(b)\n",
    "    first_sum = 0\n",
    "    second_sum = 0\n",
    "\n",
    "    for i in range(0, len(a)):\n",
    "        first_sum += (a[i] - mean_a) * (b[i] - mean_b)\n",
    "        second_sum += ((a[i] - mean_a) ** 2) * sum((b - mean_b) ** 2)\n",
    "\n",
    "    return first_sum / math.sqrt(second_sum)\n",
    "\n",
    "\n",
    "print(pearson_correlation(x, y1))\n",
    "print(pearson_correlation(x, y2))"
   ]
  },
  {
   "cell_type": "code",
   "execution_count": 7,
   "metadata": {
    "id": "L_NesuDQddHS"
   },
   "outputs": [
    {
     "name": "stdout",
     "output_type": "stream",
     "text": [
      "rho(x, y1): 0.9477\n",
      "rho(x, y2): 0.7233\n"
     ]
    }
   ],
   "source": [
    "# Refer to the output of this cell to check whether your implementation of rho\n",
    "# is correct.\n",
    "\n",
    "from scipy.stats import pearsonr\n",
    "\n",
    "print(f\"rho(x, y1): {pearsonr(x, y1)[0]:.4f}\")\n",
    "print(f\"rho(x, y2): {pearsonr(x, y2)[0]:.4f}\")"
   ]
  },
  {
   "cell_type": "markdown",
   "metadata": {
    "id": "Kr9OWmCilrAv"
   },
   "source": [
    "## 📢 **HAND-IN** 📢: Report in Moodle whether you solved this task."
   ]
  },
  {
   "cell_type": "markdown",
   "metadata": {
    "id": "rbjhdwFceHlL"
   },
   "source": [
    "# Task 2 (3 Points): Univariate Linear Regression"
   ]
  },
  {
   "cell_type": "markdown",
   "metadata": {
    "id": "ucnYGKbmecz_"
   },
   "source": [
    "### Task 2a\n",
    "\n",
    "You will now implement Linear Regression with a single variable. In class you have seen that the underlying model is: $y = \\theta_0 + \\theta_1x$.\n",
    "You also derived the maximum likelihood estimates for $\\theta_0$ and $\\theta_1$:\n",
    "\n",
    "* $\\hat{\\theta}_1 = \\frac{\\sum_{i=1}^{m} (x_i - \\bar{x})(y_i - \\bar{y})}{\\sum_{i=1}^{m}(x_i - \\bar{x})^2}$\n",
    "* $\\hat{\\theta}_0 = \\bar{y} - \\hat{\\theta}_1\\bar{x}$\n",
    "\n",
    "In the following cell, implement the `.fit` and `.predict` methods: \n",
    "* In the `.predict` method you will have to apply the model to the input `x`\n",
    "* In the `.fit` method you will have to compute $\\hat{\\theta}_0$ and $\\hat{\\theta}_1$."
   ]
  },
  {
   "cell_type": "code",
   "execution_count": 8,
   "metadata": {
    "id": "qS0Oa5Btgk74"
   },
   "outputs": [],
   "source": [
    "class UnivariateLinearRegression:\n",
    "\n",
    "    def __init__(self):\n",
    "        self.theta_0: float = 0.\n",
    "        self.theta_1: float = 0.\n",
    "\n",
    "    def predict(self, x):\n",
    "        return self.theta_0 + self.theta_1 * x\n",
    "\n",
    "    def fit(self, x: np.ndarray, y: np.ndarray):\n",
    "        x_mean = x.mean()\n",
    "        y_mean = y.mean()\n",
    "        self.theta_1 = np.sum((x - x_mean) * (y - y_mean)) / np.sum((x - x_mean) ** 2)\n",
    "        self.theta_0 = y_mean - self.theta_1 * x_mean\n",
    "\n",
    "        return self"
   ]
  },
  {
   "cell_type": "markdown",
   "metadata": {
    "id": "9LzenH1UhLOs"
   },
   "source": [
    "### Task 2b\n",
    "\n",
    "Fit your linear model to `x` and the target `y1` and plot the resulting residuals.\n",
    "\n",
    "* Create an instance of the class `UnivariateLinearRegression`\n",
    "* fit the model using its `.fit` method\n",
    "* get the predicted values, using `.predict`\n"
   ]
  },
  {
   "cell_type": "code",
   "execution_count": 9,
   "metadata": {
    "id": "UHGuDWAntd8R"
   },
   "outputs": [
    {
     "data": {
      "image/png": "[encoded data removed]",
      "text/plain": [
       "<Figure size 432x288 with 1 Axes>"
      ]
     },
     "metadata": {
      "needs_background": "light"
     },
     "output_type": "display_data"
    }
   ],
   "source": [
    "model = UnivariateLinearRegression()\n",
    "model.fit(x, y1)\n",
    "\n",
    "y_prediction = model.predict(x)\n",
    "plt.plot(x, y_prediction, color='red')\n",
    "plt.scatter(x, y1)\n",
    "plt.show()"
   ]
  },
  {
   "cell_type": "markdown",
   "metadata": {
    "id": "elE3OfjHjBRO"
   },
   "source": [
    "* implement the function `plot_residuals`\n",
    "* use `plot_residuals` to plot the residuals of your model\n",
    "* study the residual plot: are the 4 basic assumptions fullfilled? (linearity, normality, independence, equality of variance)"
   ]
  },
  {
   "cell_type": "code",
   "execution_count": 21,
   "metadata": {
    "id": "T0eKDuRt1YOF"
   },
   "outputs": [
    {
     "data": {
      "image/png": "[encoded data removed]",
      "text/plain": [
       "<Figure size 432x288 with 1 Axes>"
      ]
     },
     "metadata": {
      "needs_background": "light"
     },
     "output_type": "display_data"
    }
   ],
   "source": [
    "def plot_residuals(x, y_pred, y_true):\n",
    "    plt.scatter(y_pred, y_pred - y_true)\n",
    "    plt.hlines(0, -1, max(y_pred), color='red')\n",
    "    plt.show()\n",
    "\n",
    "\n",
    "plot_residuals(x, y_prediction, y1)"
   ]
  },
  {
   "cell_type": "markdown",
   "metadata": {
    "id": "tt2RnAwAG1n9"
   },
   "source": [
    "* Fit another linear model to `x` and `y2`\n",
    "* get the predicted values\n",
    "* plot the residuals\n",
    "* study the residual plot: are the 4 basic assumptions fulfilled? (linearity, normality, independence, equality of variance)"
   ]
  },
  {
   "cell_type": "code",
   "execution_count": 22,
   "metadata": {
    "id": "Ccq3GI17Ga2x"
   },
   "outputs": [
    {
     "data": {
      "image/png": "[encoded data removed]",
      "text/plain": [
       "<Figure size 432x288 with 1 Axes>"
      ]
     },
     "metadata": {
      "needs_background": "light"
     },
     "output_type": "display_data"
    },
    {
     "data": {
      "image/png": "[encoded data removed]",
      "text/plain": [
       "<Figure size 432x288 with 1 Axes>"
      ]
     },
     "metadata": {
      "needs_background": "light"
     },
     "output_type": "display_data"
    }
   ],
   "source": [
    "model_2 = UnivariateLinearRegression()\n",
    "model_2.fit(x, y2)\n",
    "y_prediction_2 = model_2.predict(x)\n",
    "\n",
    "plt.plot(x, y_prediction_2, color='red')\n",
    "plt.scatter(x, y2)\n",
    "plt.show()\n",
    "\n",
    "plot_residuals(x, y_prediction_2, y2)"
   ]
  },
  {
   "cell_type": "markdown",
   "metadata": {
    "id": "E0i3gWvIl7nY"
   },
   "source": [
    "## 📢 **HAND-IN** 📢: Report in Moodle whether you solved this task."
   ]
  },
  {
   "cell_type": "markdown",
   "metadata": {
    "id": "0TK0Pi4ClphY"
   },
   "source": [
    "# Task 3 (4 Points): Univariate Linear Regression using Stochastic Gradient Descent"
   ]
  },
  {
   "cell_type": "markdown",
   "metadata": {
    "id": "YL31gChVqLpC"
   },
   "source": [
    "### Task 3a\n",
    "\n",
    "In class you have seen an alternative version to estimate the parameters $\\theta_i$ of the linear regression models by using Gradient Descent.\n",
    "\n",
    "For the univariate linear regression model, the stochastic gradient descent updates look like this:\n",
    "* $\\theta_{0}^{(t+1)} = \\theta_{0}^{(t)} - \\alpha (\\theta_0 + \\theta_1 x_t - y_t)$\n",
    "* $\\theta_{1}^{(t+1)} = \\theta_{1}^{(t)} - \\alpha (\\theta_0 + \\theta_1 x_t - y_t) x_t$\n",
    "\n",
    "Here $\\alpha$ is the learning rate, and $(x_t, y_t)$ is the data point sampled\n",
    "at time $t$.\n",
    "\n",
    "\n",
    "In the following cell, implement the `.fit` and `.predict` methods: \n",
    "* In the `.predict` method you will have to apply the model to the input `x`.\n",
    "* In the `.fit` method you will have to implement the update equations for\n",
    "$\\theta_0$ and $\\theta_1$."
   ]
  },
  {
   "cell_type": "code",
   "execution_count": 12,
   "metadata": {
    "id": "wJMHvQmXmVKr"
   },
   "outputs": [],
   "source": [
    "class SGDUnivariateLinearRegression:\n",
    "\n",
    "    def __init__(self):\n",
    "        self.theta_0: float = 0.\n",
    "        self.theta_1: float = 0.\n",
    "        self.rng = np.random.default_rng(RANDOM_SEED)\n",
    "\n",
    "    def predict(self, x):\n",
    "        return self.theta_0 + self.theta_1 * x\n",
    "\n",
    "    def fit(self, x, y, n_iter: int = 100, learning_rate: float = 1.0):\n",
    "        for t in range(n_iter):\n",
    "            sample_ix = self.rng.integers(0, len(x))\n",
    "\n",
    "            xt = x[sample_ix]\n",
    "            yt = y[sample_ix]\n",
    "\n",
    "            # Update self.theta_0 and self.theta_1 according to their update equations\n",
    "            next_theta_0 = self.theta_0 - learning_rate * (self.theta_0 + self.theta_1 * xt - yt)\n",
    "            next_theta_1 = self.theta_1 - learning_rate * (self.theta_0 + self.theta_1 * xt - yt) * xt\n",
    "\n",
    "            self.theta_0 = next_theta_0\n",
    "            self.theta_1 = next_theta_1\n",
    "\n",
    "        return self"
   ]
  },
  {
   "cell_type": "markdown",
   "metadata": {
    "id": "MHLBmTm4vK9p"
   },
   "source": [
    "### Task 3b\n",
    "\n",
    "Run SGD for `x` and the target `y1` and compute the mean squared error (MSE).\n",
    "The MSE is defined as: $\\frac{1}{n}\\sum_{i=1}^{n} (\\hat{y}_i - y_i)^2$, where\n",
    "$\\hat{y}$ are the model predictions.\n",
    "\n",
    "* Create an instance of the class `SGDUnivariateLinearRegression`\n",
    "* fit the model using its `.fit` method\n",
    "* get the predicted values, using `.predict`\n",
    "* implement the `mse` function\n",
    "* compute the MSE of your predictions"
   ]
  },
  {
   "cell_type": "code",
   "execution_count": 13,
   "metadata": {
    "id": "CZ1szyQhK9so"
   },
   "outputs": [],
   "source": [
    "def mse(y_pred, y_true):\n",
    "    return np.sum((y_pred - y_true) ** 2) / len(y_pred)"
   ]
  },
  {
   "cell_type": "code",
   "execution_count": 14,
   "metadata": {
    "id": "V35vBU5Yti8Z"
   },
   "outputs": [
    {
     "data": {
      "image/png": "[encoded data removed]",
      "text/plain": [
       "<Figure size 432x288 with 1 Axes>"
      ]
     },
     "metadata": {
      "needs_background": "light"
     },
     "output_type": "display_data"
    },
    {
     "name": "stdout",
     "output_type": "stream",
     "text": [
      "0.23665898370500849\n"
     ]
    }
   ],
   "source": [
    "model = SGDUnivariateLinearRegression()\n",
    "model.fit(x, y1)\n",
    "y_prediction_sgd = model.predict(x)\n",
    "\n",
    "plt.plot(x, y_prediction_sgd, color='red')\n",
    "plt.scatter(x, y1)\n",
    "plt.show()\n",
    "\n",
    "print(mse(y_prediction_sgd, y1))"
   ]
  },
  {
   "cell_type": "markdown",
   "metadata": {
    "id": "hSsE1o6GwA3K"
   },
   "source": [
    "### Task 3c\n",
    "\n",
    "You will now plot the learning curves for different learning rates $\\alpha$.\n",
    "A learning curves shows how a model's performance changes with increasing number of update steps.\n",
    "In our case we will plot the model's MSE as a function of the number of update\n",
    "steps `n_iter` for different values of `learning_rate`.\n",
    "\n",
    "In the following cell we setup most of the scaffold to create this plot. Follow\n",
    "the instructions in the comments to finish the plots."
   ]
  },
  {
   "cell_type": "code",
   "execution_count": 15,
   "metadata": {
    "id": "4Rr5ix7LNISB"
   },
   "outputs": [
    {
     "name": "stdout",
     "output_type": "stream",
     "text": [
      "[0.09408232451300966, 0.23665898370500849, 0.11368947116622055, 0.10133315249799883, 0.2615438751881062, 0.13727595137142598]\n",
      "[0.11081653766380826, 0.0570057578611337, 0.0697457782740247, 0.056511679511121675, 0.07418061114088839, 0.05629702350374229]\n",
      "[0.6438783319881626, 0.3639663632333106, 0.1806228452169793, 0.07524713767241131, 0.06104668420321417, 0.05629529297815294]\n"
     ]
    },
    {
     "data": {
      "image/png": "[encoded data removed]",
      "text/plain": [
       "<Figure size 432x288 with 1 Axes>"
      ]
     },
     "metadata": {
      "needs_background": "light"
     },
     "output_type": "display_data"
    }
   ],
   "source": [
    "n_iters = [50, 100, 200, 500, 1000, 2000]\n",
    "learning_rates = [1., .1, .01]\n",
    "\n",
    "# we plot the MSE achieved by the closed form model as a reference\n",
    "closed_form = UnivariateLinearRegression()\n",
    "closed_form.fit(x, y1)\n",
    "mse_base = mse(y_pred=closed_form.predict(x), y_true=y1)\n",
    "plt.plot(n_iters, np.ones_like(n_iters) * mse_base, label=\"closed form\", linestyle='--', c='b')\n",
    "\n",
    "for alpha in learning_rates:\n",
    "    mses = []\n",
    "    for n_iter in n_iters:\n",
    "        # fit a SGDUnivariateLinearRegression model using n_iter=n_iter and learning_rate=alpha\n",
    "        # compute its mse and append the mse value to the mses list\n",
    "\n",
    "        model = SGDUnivariateLinearRegression()\n",
    "        model.fit(x, y1, n_iter, alpha)\n",
    "        y_prediction_sgd = model.predict(x)\n",
    "\n",
    "        mse_ = mse(y_prediction_sgd, y1)  # replace with mse calculation\n",
    "        mses.append(mse_)\n",
    "    print(mses)\n",
    "    plt.plot(n_iters, mses, label=f\"alpha = {alpha:.2f}\")\n",
    "\n",
    "plt.xlabel(\"n_iter\")\n",
    "plt.ylabel(\"MSE\")\n",
    "plt.legend()\n",
    "plt.show()"
   ]
  },
  {
   "cell_type": "markdown",
   "metadata": {
    "id": "SmCkMMJyEEgV"
   },
   "source": [
    "## 📢 **HAND-IN** 📢: A PDF document containing the following:\n",
    "\n",
    "* the final plot containing learning curves\n",
    "* a short (2-3 sentences) interpretation of the curves: why do you think they look the way\n",
    "they do? can you draw any conclusions?\n",
    "\n",
    "In case you were not able to arrive at the final plot:\n",
    "\n",
    "* include screenshots of the code you wrote so we can assign partial credit\n",
    "\n",
    "**Solutions for Tasks 3 and 4 should be in the same document: you will only upload 1 document with your solutions for both tasks!**\n"
   ]
  },
  {
   "cell_type": "markdown",
   "metadata": {
    "id": "dgrNtwsPyigH"
   },
   "source": [
    "# Task 4 (3 Points): Multivariate Linear Regression"
   ]
  },
  {
   "cell_type": "markdown",
   "metadata": {
    "id": "_sPWegXCg2y1"
   },
   "source": [
    "In this task we will apply linear regression to non-synthetic data.\n",
    "The variable `X` is a `pandas` `Dataframe` containing features and `y` contains\n",
    "the target. Read through the description to get an idea of the different variables."
   ]
  },
  {
   "cell_type": "code",
   "execution_count": 16,
   "metadata": {
    "id": "djGUQ3kVx9ob"
   },
   "outputs": [
    {
     "name": "stdout",
     "output_type": "stream",
     "text": [
      ".. _diabetes_dataset:\n",
      "\n",
      "Diabetes dataset\n",
      "----------------\n",
      "\n",
      "Ten baseline variables, age, sex, body mass index, average blood\n",
      "pressure, and six blood serum measurements were obtained for each of n =\n",
      "442 diabetes patients, as well as the response of interest, a\n",
      "quantitative measure of disease progression one year after baseline.\n",
      "\n",
      "**Data Set Characteristics:**\n",
      "\n",
      "  :Number of Instances: 442\n",
      "\n",
      "  :Number of Attributes: First 10 columns are numeric predictive values\n",
      "\n",
      "  :Target: Column 11 is a quantitative measure of disease progression one year after baseline\n",
      "\n",
      "  :Attribute Information:\n",
      "      - age     age in years\n",
      "      - sex\n",
      "      - bmi     body mass index\n",
      "      - bp      average blood pressure\n",
      "      - s1      tc, total serum cholesterol\n",
      "      - s2      ldl, low-density lipoproteins\n",
      "      - s3      hdl, high-density lipoproteins\n",
      "      - s4      tch, total cholesterol / HDL\n",
      "      - s5      ltg, possibly log of serum triglycerides level\n",
      "      - s6      glu, blood sugar level\n",
      "\n",
      "Note: Each of these 10 feature variables have been mean centered and scaled by the standard deviation times `n_samples` (i.e. the sum of squares of each column totals 1).\n",
      "\n",
      "Source URL:\n",
      "https://www4.stat.ncsu.edu/~boos/var.select/diabetes.html\n",
      "\n",
      "For more information see:\n",
      "Bradley Efron, Trevor Hastie, Iain Johnstone and Robert Tibshirani (2004) \"Least Angle Regression,\" Annals of Statistics (with discussion), 407-499.\n",
      "(https://web.stanford.edu/~hastie/Papers/LARS/LeastAngle_2002.pdf)\n"
     ]
    }
   ],
   "source": [
    "from sklearn.datasets import load_diabetes\n",
    "\n",
    "data = load_diabetes(as_frame=True)\n",
    "\n",
    "X = data['data']\n",
    "y = data['target']\n",
    "description = data['DESCR']\n",
    "\n",
    "print(description)"
   ]
  },
  {
   "cell_type": "markdown",
   "metadata": {
    "id": "byOVt9t9_2c7"
   },
   "source": [
    "### Task 4a\n",
    "\n",
    "Implement linear regression using `sklearn`.\n",
    "\n",
    "* create an instance of the class `sklearn.linear_model.LinearRegression`. Refer to the documentation at: https://scikit-learn.org/stable/modules/generated/sklearn.linear_model.LinearRegression.html\n",
    "* call its `.fit` method\n",
    "* get the predicted values with `.predict`\n",
    "* plot the residuals\n",
    "* study the residual plot: are the 4 basic assumptions fullfilled? (linearity, normality, independence, equality of variance)"
   ]
  },
  {
   "cell_type": "code",
   "execution_count": 23,
   "metadata": {
    "id": "eyiU4nCQBovr"
   },
   "outputs": [
    {
     "data": {
      "image/png": "[encoded data removed]",
      "text/plain": [
       "<Figure size 432x288 with 1 Axes>"
      ]
     },
     "metadata": {
      "needs_background": "light"
     },
     "output_type": "display_data"
    }
   ],
   "source": [
    "from sklearn.linear_model import LinearRegression\n",
    "\n",
    "model = LinearRegression()\n",
    "model.fit(X, y)\n",
    "predictions = model.predict(X)\n",
    "\n",
    "# I believe that something here is incorrect, but I couldn't properly figure out what exactly.\n",
    "plot_residuals(X, predictions, y)"
   ]
  },
  {
   "cell_type": "code",
   "execution_count": null,
   "metadata": {
    "id": "G4AktC189PAc"
   },
   "outputs": [],
   "source": []
  },
  {
   "cell_type": "markdown",
   "metadata": {
    "id": "qQUdYHOXpeLd"
   },
   "source": [
    "### Task 4b\n",
    "\n",
    "The estimated parameters $\\theta$ of the linear model can be found in the `.coef_` member variable. The feature names can be found in the `.feature_names_in_` member variable. They are the same as the names of the columns of `X` and should be in the same order.\n",
    "\n",
    "Using these, answer the following questions:\n",
    "\n",
    "* Which are the 3 most influential features?\n",
    "* How do you interpret the sign of the coefficients?\n",
    "* If you had to exclude 1 feature, which one would you select and why?"
   ]
  },
  {
   "cell_type": "code",
   "execution_count": 70,
   "metadata": {
    "id": "odXnubfHqrfc"
   },
   "outputs": [
    {
     "name": "stdout",
     "output_type": "stream",
     "text": [
      "[ -10.01219782 -239.81908937  519.83978679  324.39042769 -792.18416163\n",
      "  476.74583782  101.04457032  177.06417623  751.27932109   67.62538639]\n",
      "['age' 'sex' 'bmi' 'bp' 's1' 's2' 's3' 's4' 's5' 's6']\n"
     ]
    }
   ],
   "source": [
    "print(model.coef_)\n",
    "print(model.feature_names_in_)"
   ]
  },
  {
   "cell_type": "markdown",
   "metadata": {
    "id": "xa_HDxFeolBj"
   },
   "source": [
    "## 📢 **HAND-IN** 📢: A PDF document containing the following:\n",
    "\n",
    "* your residual plot\n",
    "* a short (2-3 sentences) interpretation of the residuals. In particular, your\n",
    "assessment of the 4 basic assumptions.\n",
    "* your answers to the questions in Task 4b\n",
    "\n",
    "**Solutions for Tasks 3 and 4 should be in the same document: you will only upload 1 document with your solutions for both tasks!**\n"
   ]
  }
 ],
 "metadata": {
  "colab": {
   "private_outputs": true,
   "provenance": []
  },
  "kernelspec": {
   "display_name": "Python 3 (ipykernel)",
   "language": "python",
   "name": "python3"
  },
  "language_info": {
   "codemirror_mode": {
    "name": "ipython",
    "version": 3
   },
   "file_extension": ".py",
   "mimetype": "text/x-python",
   "name": "python",
   "nbconvert_exporter": "python",
   "pygments_lexer": "ipython3",
   "version": "3.9.7"
  }
 },
 "nbformat": 4,
 "nbformat_minor": 1
}